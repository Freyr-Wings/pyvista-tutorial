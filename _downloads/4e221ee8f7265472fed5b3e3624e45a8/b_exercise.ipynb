{
  "cells": [
    {
      "cell_type": "code",
      "execution_count": null,
      "metadata": {
        "collapsed": false
      },
      "outputs": [],
      "source": [
        "%matplotlib inline\nfrom pyvista import set_plot_theme\nset_plot_theme(\"document\")"
      ]
    },
    {
      "cell_type": "markdown",
      "metadata": {},
      "source": [
        "Exercise\n========\n"
      ]
    },
    {
      "cell_type": "code",
      "execution_count": null,
      "metadata": {
        "collapsed": false
      },
      "outputs": [],
      "source": [
        "from pyvista import set_plot_theme\n\nset_plot_theme(\"document\")"
      ]
    },
    {
      "cell_type": "markdown",
      "metadata": {},
      "source": [
        "Let\\'s create a box pyvista.PolyData (surface mesh) from vertices and\nfaces. Please set each side length 1.0.\n"
      ]
    },
    {
      "cell_type": "code",
      "execution_count": null,
      "metadata": {
        "collapsed": false
      },
      "outputs": [],
      "source": [
        "# insert your code here (answer below)"
      ]
    },
    {
      "cell_type": "code",
      "execution_count": null,
      "metadata": {
        "collapsed": false
      },
      "outputs": [],
      "source": [
        "import numpy as np\nimport pyvista as pv\n\n# mesh points\nvertices = np.array(\n    [\n        [0, 0, 0],\n        [1, 0, 0],\n        [1, 1, 0],\n        [0, 1, 0],\n        [0, 0, 1],\n        [1, 0, 1],\n        [1, 1, 1],\n        [0, 1, 1],\n    ]\n)\n\n# mesh faces\nfaces = np.hstack(\n    [\n        [4, 0, 1, 2, 3],  # square\n        [4, 4, 5, 6, 7],  # square\n        [4, 0, 1, 5, 4],  # square\n        [4, 1, 2, 6, 5],  # square\n        [4, 2, 3, 7, 6],  # square\n        [4, 3, 0, 4, 7],  # square\n    ]\n)\n\nsurf = pv.PolyData(vertices, faces)\n\n# plot each face with a different color\nsurf.plot(\n    cpos=[-1, 1, 0.5],\n    show_edges=True,\n    line_width=5,\n)"
      ]
    },
    {
      "cell_type": "markdown",
      "metadata": {},
      "source": [
        "We can add data to the box you created. Please add the point number of\neach point as point data. Also, add a face number to each face as cell\ndata.\n"
      ]
    },
    {
      "cell_type": "code",
      "execution_count": null,
      "metadata": {
        "collapsed": false
      },
      "outputs": [],
      "source": [
        "# insert your code here (answer below)"
      ]
    },
    {
      "cell_type": "code",
      "execution_count": null,
      "metadata": {
        "collapsed": false
      },
      "outputs": [],
      "source": [
        "import numpy as np\n\nsurf[\"point_number\"] = range(8)\nsurf[\"face_number\"] = range(6)\n\n# plot each face with a different color\nsurf.plot(show_edges=True, line_width=5, scalars=\"face_number\")"
      ]
    }
  ],
  "metadata": {
    "kernelspec": {
      "display_name": "Python 3",
      "language": "python",
      "name": "python3"
    },
    "language_info": {
      "codemirror_mode": {
        "name": "ipython",
        "version": 3
      },
      "file_extension": ".py",
      "mimetype": "text/x-python",
      "name": "python",
      "nbconvert_exporter": "python",
      "pygments_lexer": "ipython3",
      "version": "3.9.13"
    }
  },
  "nbformat": 4,
  "nbformat_minor": 0
}