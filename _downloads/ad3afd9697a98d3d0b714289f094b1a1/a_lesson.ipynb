{
  "cells": [
    {
      "cell_type": "code",
      "execution_count": null,
      "metadata": {
        "collapsed": false
      },
      "outputs": [],
      "source": [
        "%matplotlib inline\nfrom pyvista import set_plot_theme\nset_plot_theme(\"document\")"
      ]
    },
    {
      "cell_type": "markdown",
      "metadata": {},
      "source": [
        "Lesson Overview\n===============\n\nThis exercise provides an overview of the content in the initial lesson\nfor you to try out!\n"
      ]
    },
    {
      "cell_type": "code",
      "execution_count": null,
      "metadata": {
        "collapsed": false
      },
      "outputs": [],
      "source": [
        "from pyvista import set_plot_theme\n\nset_plot_theme(\"document\")"
      ]
    },
    {
      "cell_type": "markdown",
      "metadata": {},
      "source": [
        "Points and Arrays Within PyVista\n================================\n\nLearn about the data model of the PyVista framework and how you can\nvisualize your data in style using point, cell, and field data. There\nare a variety of ways to create points within PyVista, and this section\nshows how to efficiently create an array of points by either:\n\n-   Wrapping a VTK array\n-   Using a\n    \\[numpy.ndarray\\](<https://numpy.org/doc/stable/reference/generated/numpy.ndarray.html#numpy.ndarray>)\n-   Or just using a\n    \\[list\\](<https://docs.python.org/dev/library/stdtypes.html#list>)\n\nPyVista provides pythonic methods for all three approaches so you can\nchoose whatever is most efficient for you. If you're comfortable with\nthe VTK API, you can choose to wrap VTK arrays, but you may find that\nusing\n\\[numpy.ndarray\\](<https://numpy.org/doc/stable/reference/generated/numpy.ndarray.html#numpy.ndarray>)\nis more convenient and avoids the looping overhead in Python.\n"
      ]
    },
    {
      "cell_type": "markdown",
      "metadata": {},
      "source": [
        "Wrapping a VTK Array\n====================\n\nLet's define points of a triangle. Using the VTK API, this can be done\nwith:\n"
      ]
    },
    {
      "cell_type": "code",
      "execution_count": null,
      "metadata": {
        "collapsed": false
      },
      "outputs": [],
      "source": [
        "import vtk\n\nvtk_array = vtk.vtkDoubleArray()\nvtk_array.SetNumberOfComponents(3)\nvtk_array.SetNumberOfValues(9)\nvtk_array.SetValue(0, 0)\nvtk_array.SetValue(1, 0)\nvtk_array.SetValue(2, 0)\nvtk_array.SetValue(3, 1)\nvtk_array.SetValue(4, 0)\nvtk_array.SetValue(5, 0)\nvtk_array.SetValue(6, 0.5)\nvtk_array.SetValue(7, 0.667)\nvtk_array.SetValue(8, 0)\nprint(vtk_array)"
      ]
    },
    {
      "cell_type": "markdown",
      "metadata": {},
      "source": [
        "PyVista supports creating objects directly from the vtkDataArray class,\nbut there's a better, and more pythonic alternative by using\nnumpy.ndarray.\n\nUsing NumPy with PyVista\n========================\n\nYou can create a \\[NumPy\\](<https://numpy.org/>) points array with:\n"
      ]
    },
    {
      "cell_type": "code",
      "execution_count": null,
      "metadata": {
        "collapsed": false
      },
      "outputs": [],
      "source": [
        "import numpy as np\n\nnp_points = np.array([[0, 0, 0], [1, 0, 0], [0.5, 0.667, 0]])\nnp_points"
      ]
    },
    {
      "cell_type": "markdown",
      "metadata": {},
      "source": [
        "We use a\n\\[numpy.ndarray\\](<https://numpy.org/doc/stable/reference/generated/numpy.ndarray.html#numpy.ndarray>)\nhere so that PyVista directly \"points\" the underlying C array to VTK.\nVTK already has APIs to directly read in the C arrays from NumPy, and\nsince VTK is written in C++, everything from Python that is transferred\nover to VTK needs to be in a format that VTK can process.\n"
      ]
    },
    {
      "cell_type": "code",
      "execution_count": null,
      "metadata": {
        "collapsed": false
      },
      "outputs": [],
      "source": [
        "# Should you wish to use VTK objects within PyVista, you can still do this.\n# In fact, using [pyvista.wrap()](https://docs.pyvista.org/api/utilities/_autosummary/pyvista.wrap.html#pyvista.wrap),\n# you can even get a numpy-like representation of the data. For example:\n\nimport pyvista\n\nwrapped = pyvista.wrap(vtk_array)\nwrapped"
      ]
    },
    {
      "cell_type": "markdown",
      "metadata": {},
      "source": [
        "Note that when wrapping the underlying VTK array, we actually perform a\nshallow copy of the data. In other words, we pass the pointer from the\nunderlying C array to the\n\\[numpy.ndarray\\](<https://numpy.org/doc/stable/reference/generated/numpy.ndarray.html#numpy.ndarray>),\nmeaning that the two arrays are now efficiently linked (in NumPy\nterminology, the returned array is a view into the underlying VTK data).\nThis means that we can change the array using numpy array indexing and\nhave it modified on the \"VTK side\".\n"
      ]
    },
    {
      "cell_type": "code",
      "execution_count": null,
      "metadata": {
        "collapsed": false
      },
      "outputs": [],
      "source": [
        "wrapped[0, 0] = 10\nvtk_array.GetValue(0)"
      ]
    },
    {
      "cell_type": "markdown",
      "metadata": {},
      "source": [
        "Or we can change the value from the VTK array and see it reflected in\nthe numpy wrapped array. Let's change the value back:\n"
      ]
    },
    {
      "cell_type": "code",
      "execution_count": null,
      "metadata": {
        "collapsed": false
      },
      "outputs": [],
      "source": [
        "vtk_array.SetValue(0, 0)\nwrapped[0, 0]"
      ]
    },
    {
      "cell_type": "markdown",
      "metadata": {},
      "source": [
        "Using Python Lists or Tuples\n============================\n\nPyVista supports the use of Python sequences (i.e.\n\\[list\\](<https://docs.python.org/dev/library/stdtypes.html#list>) or\n\\[tuple\\](<https://docs.python.org/dev/library/stdtypes.html#list>)),\nand you could define your points using a nested list of lists via:\n"
      ]
    },
    {
      "cell_type": "code",
      "execution_count": null,
      "metadata": {
        "collapsed": false
      },
      "outputs": [],
      "source": [
        "points = [[0, 0, 0], [1, 0, 0], [0.5, 0.667, 0]]"
      ]
    },
    {
      "cell_type": "markdown",
      "metadata": {},
      "source": [
        "When used in the context of\n\\[PolyData\\](<https://docs.pyvista.org/api/core/_autosummary/pyvista.PolyData.html#pyvista.PolyData>)\nto create the mesh, this list will automatically be wrapped using NumPy\nand then passed to VTK. This avoids any looping overhead and while still\nallowing you to use native python classes.\n\nFinally, let's show how we can use these three objects in the context of\na PyVista geometry class. Here, we create a simple point mesh containing\njust the three points:\n"
      ]
    },
    {
      "cell_type": "code",
      "execution_count": null,
      "metadata": {
        "collapsed": false
      },
      "outputs": [],
      "source": [
        "from_vtk = pyvista.PolyData(vtk_array)\nfrom_np = pyvista.PolyData(np_points)\nfrom_list = pyvista.PolyData(points)"
      ]
    },
    {
      "cell_type": "markdown",
      "metadata": {},
      "source": [
        "These point meshes all contain three points and are effectively\nidentical. Let's show this by accessing the underlying points array from\nthe mesh, which is represented as a `pyvista.pyvista_ndarray`\n"
      ]
    },
    {
      "cell_type": "code",
      "execution_count": null,
      "metadata": {
        "collapsed": false
      },
      "outputs": [],
      "source": [
        "from_vtk.points"
      ]
    },
    {
      "cell_type": "markdown",
      "metadata": {},
      "source": [
        "And show that these are all identical\n"
      ]
    },
    {
      "cell_type": "code",
      "execution_count": null,
      "metadata": {
        "collapsed": false
      },
      "outputs": [],
      "source": [
        "assert np.array_equal(from_vtk.points, from_np.points)\nassert np.array_equal(from_vtk.points, from_list.points)\nassert np.array_equal(from_np.points, from_list.points)"
      ]
    },
    {
      "cell_type": "markdown",
      "metadata": {},
      "source": [
        "Finally, let's plot this (very) simple example using PyVista's\n\\[pyvista.plot()\\](<https://docs.pyvista.org/api/plotting/_autosummary/pyvista.plot.html#pyvista.plot>)\nmethod. Let's make this a full example so you can see the entire\nprocess.\n"
      ]
    },
    {
      "cell_type": "code",
      "execution_count": null,
      "metadata": {
        "collapsed": false
      },
      "outputs": [],
      "source": [
        "import pyvista\n\npoints = [[0, 0, 0], [1, 0, 0], [0.5, 0.667, 0]]\nmesh = pyvista.PolyData(points)\nmesh.plot(show_bounds=True, cpos=\"xy\", point_size=20)"
      ]
    },
    {
      "cell_type": "markdown",
      "metadata": {},
      "source": [
        "We'll get into PyVista's data classes and attributes later, but for now\nwe've shown how to create a simple geometry containing just points. To\ncreate a surface, we must specify the connectivity of the geometry, and\nto do that we need to specify the cells (or faces) of this surface.\n\nGeometry and Mesh Connectivity/Topology Within PyVista\n======================================================\n\nWith our previous example, we defined our \"mesh\" as three disconnected\npoints. While this is useful for representing \"point clouds\", if we want\nto create a surface, we have to describe the connectivity of the mesh.\nTo do this, let's define a single cell composed of three points in the\nsame order as we defined earlier.\n"
      ]
    },
    {
      "cell_type": "code",
      "execution_count": null,
      "metadata": {
        "collapsed": false
      },
      "outputs": [],
      "source": [
        "cells = [3, 0, 1, 2]"
      ]
    },
    {
      "cell_type": "markdown",
      "metadata": {},
      "source": [
        "Observe how we had to insert a leading `3` to tell VTK that our face\nwill contain three points. In our\n\\[PolyData\\](<https://docs.pyvista.org/api/core/_autosummary/pyvista.PolyData.html#pyvista.PolyData>)\nVTK doesn't assume that faces always contain three points, so we have to\ndefine that. This actually gives us the flexibility to define as many\n(or as few as one) points per cell as we wish.\n\nNow we have all the necessary pieces to assemble an instance of\n\\[PolyData\\](<https://docs.pyvista.org/api/core/_autosummary/pyvista.PolyData.html#pyvista.PolyData>)\nthat contains a single triangle. To do this, we simply provide the\n`points` and `cells` to the constructor of a\n\\[PolyData\\](<https://docs.pyvista.org/api/core/_autosummary/pyvista.PolyData.html#pyvista.PolyData>).\nWe can see from the representation that this geometry contains three\npoints and one cell\n"
      ]
    },
    {
      "cell_type": "code",
      "execution_count": null,
      "metadata": {
        "collapsed": false
      },
      "outputs": [],
      "source": [
        "mesh = pyvista.PolyData(points, cells)\nmesh"
      ]
    },
    {
      "cell_type": "markdown",
      "metadata": {},
      "source": [
        "Let's also plot this:\n"
      ]
    },
    {
      "cell_type": "code",
      "execution_count": null,
      "metadata": {
        "collapsed": false
      },
      "outputs": [],
      "source": [
        "mesh = pyvista.PolyData(points, [3, 0, 1, 2])\nmesh.plot(cpos=\"xy\", show_edges=True)"
      ]
    },
    {
      "cell_type": "markdown",
      "metadata": {},
      "source": [
        "While we're at it, let's annotate this plot to describe this mesh.\n"
      ]
    },
    {
      "cell_type": "code",
      "execution_count": null,
      "metadata": {
        "collapsed": false
      },
      "outputs": [],
      "source": [
        "pl = pyvista.Plotter()\npl.add_mesh(mesh, show_edges=True, line_width=5)\nlabel_coords = mesh.points + [0, 0, 0.01]\npl.add_point_labels(\n    label_coords, [f\"Point {i}\" for i in range(3)], font_size=20, point_size=20\n)\npl.add_point_labels([0.43, 0.2, 0], [\"Cell 0\"], font_size=20)\npl.camera_position = \"xy\"\npl.show()"
      ]
    },
    {
      "cell_type": "markdown",
      "metadata": {},
      "source": [
        "You can clearly see how the polygon is created based on the connectivity\nof the points.\n\nThis instance has several attributes to access the underlying data of\nthe mesh. For example, if you wish to access or modify the points of the\nmesh, you can simply access the points attribute with\n\\[points\\](<https://docs.pyvista.org/api/core/_autosummary/pyvista.DataSet.points.html#pyvista.DataSet.points>).\n"
      ]
    },
    {
      "cell_type": "code",
      "execution_count": null,
      "metadata": {
        "collapsed": false
      },
      "outputs": [],
      "source": [
        "mesh.points"
      ]
    },
    {
      "cell_type": "markdown",
      "metadata": {},
      "source": [
        "The connectivity can also be accessed from the\n\\[faces\\](<https://docs.pyvista.org/api/core/_autosummary/pyvista.PolyData.faces.html#pyvista.PolyData.faces>)\nattribute with:\n"
      ]
    },
    {
      "cell_type": "code",
      "execution_count": null,
      "metadata": {
        "collapsed": false
      },
      "outputs": [],
      "source": [
        "mesh.faces"
      ]
    },
    {
      "cell_type": "markdown",
      "metadata": {},
      "source": [
        "Or we could simply get the representation of the mesh with:\n"
      ]
    },
    {
      "cell_type": "code",
      "execution_count": null,
      "metadata": {
        "collapsed": false
      },
      "outputs": [],
      "source": [
        "mesh"
      ]
    },
    {
      "cell_type": "markdown",
      "metadata": {},
      "source": [
        "In this representation we see:\n\n-   Number of cells\n    \\[n\\_cells\\](<https://docs.pyvista.org/api/core/_autosummary/pyvista.DataSet.n_cells.html#pyvista.DataSet.n_cells>)\n-   Number of points\n    \\[n\\_points\\](<https://docs.pyvista.org/api/core/_autosummary/pyvista.DataSet.n_points.html#pyvista.DataSet.n_points>)\n-   Bounds of the mesh\n    \\[bounds\\](<https://docs.pyvista.org/api/core/_autosummary/pyvista.DataSet.bounds.html#pyvista.DataSet.bounds>)\n-   Number of data arrays\n    \\[n\\_arrays\\](<https://docs.pyvista.org/api/core/_autosummary/pyvista.DataSet.n_arrays.html#pyvista.DataSet.n_arrays>)\n\nThis is vastly different from the output from VTK. See \\[Object\nRepresentation\\](<https://docs.pyvista.org/user-guide/vtk_to_pyvista.html#vtk-vs-pyvista-object-repr>)\nfor the comparison between the two representations.\n\nThis mesh contains no data arrays as it consists only of geometry. This\nmakes it useful for plotting just the geometry of the mesh, but datasets\noften contain more than just geometry. For example:\n\n-   An electrical field computed from a changing magnetic field\n-   Vector field of blood flow through artery\n-   Surface stresses from a structural finite element analysis\n-   Mineral deposits from geophysics\n-   Weather patterns as a vector field or surface data.\n\nWhile each one of these datasets could be represented as a different\ngeometry class, they would all contain point, cell, or field data that\nexplains the value of the data at a certain location within the\ngeometry.\n"
      ]
    },
    {
      "cell_type": "markdown",
      "metadata": {},
      "source": [
        "Data Arrays\n===========\n\nEach\n\\[DataSet\\](<https://docs.pyvista.org/api/core/_autosummary/pyvista.DataSet.html#pyvista.DataSet>)\ncontains attributes that allow you to access the underlying numeric\ndata. This numerical data may be associated with the\n\\[points\\](<https://docs.pyvista.org/api/core/_autosummary/pyvista.DataSet.points.html#pyvista.DataSet.points>),\ncells, or not associated with points or cells and attached to the mesh\nin general.\n\nTo illustrate data arrays within PyVista, let's first construct a\nslightly more complex mesh than our previous example. Here, we create a\nsimple mesh containing four isometric cells by starting with a\n\\[UniformGrid\\](<https://docs.pyvista.org/api/core/_autosummary/pyvista.UniformGrid.html#pyvista.UniformGrid>)\nand then casting it to an\n\\[UnstructuredGrid\\](<https://docs.pyvista.org/api/core/_autosummary/pyvista.UnstructuredGrid.html#pyvista.UnstructuredGrid>)\nwith\n\\[cast\\_to\\_unstructured\\_grid()\\](<https://docs.pyvista.org/api/core/_autosummary/pyvista.DataSet.cast_to_unstructured_grid.html#pyvista.DataSet.cast_to_unstructured_grid>).\n"
      ]
    },
    {
      "cell_type": "code",
      "execution_count": null,
      "metadata": {
        "collapsed": false
      },
      "outputs": [],
      "source": [
        "grid = pyvista.UniformGrid(dims=(3, 3, 1))\nugrid = grid.cast_to_unstructured_grid()\nugrid"
      ]
    },
    {
      "cell_type": "markdown",
      "metadata": {},
      "source": [
        "Let's also plot this basic mesh:\n"
      ]
    },
    {
      "cell_type": "code",
      "execution_count": null,
      "metadata": {
        "collapsed": false
      },
      "outputs": [],
      "source": [
        "pl = pyvista.Plotter()\npl.add_mesh(ugrid, show_edges=True, line_width=5)\nlabel_coords = ugrid.points + [0, 0, 0.02]\npoint_labels = [f\"Point {i}\" for i in range(ugrid.n_points)]\npl.add_point_labels(label_coords, point_labels, font_size=25, point_size=20)\ncell_labels = [f\"Cell {i}\" for i in range(ugrid.n_cells)]\npl.add_point_labels(ugrid.cell_centers(), cell_labels, font_size=25)\npl.camera_position = \"xy\"\npl.show()"
      ]
    },
    {
      "cell_type": "markdown",
      "metadata": {},
      "source": [
        "Now that we have a simple mesh to work with, we can start assigning it\ndata. There are two main types of data that can be associated with a\nmesh: scalar data and vector data. Scalar data is single or\nmulti-component data that is non directional and may include values like\ntemperature, or in the case o multi-component data, RGBA values. Vector\ndata has magnitude and direction and is represented as arrays containing\nthree components per data point.\n\nWhen plotting, we can easily display scalar data, but this data must be\n\"associated\" with either points or cells. For example, we may wish to\nassign values to the cells of our example mesh, which we can do by\naccessing the cell\\_data attribute of our mesh.\n"
      ]
    },
    {
      "cell_type": "markdown",
      "metadata": {},
      "source": [
        "Cell Data\n=========\n\nThe easiest way to add scalar data to a\n\\[DataSet\\](<https://docs.pyvista.org/api/core/_autosummary/pyvista.DataSet.html#pyvista.DataSet>)\nis to use the `[]` operator. Continuing with our example above, let's\nassign each cell a single integer. We can do this using a Python\n\\[list\\](<https://docs.python.org/dev/library/stdtypes.html#list>) and\nmaking it the same length as the number of cells in the\n\\[UnstructuredGrid\\](<https://docs.pyvista.org/api/core/_autosummary/pyvista.UnstructuredGrid.html#pyvista.UnstructuredGrid>).\nOr as an even simpler example, using a\n\\[range\\](<https://docs.python.org/dev/library/stdtypes.html#range>) of\nthe appropriate length. Here we create the range, add it to the\n\\[cell\\_data\\](<https://docs.pyvista.org/api/core/_autosummary/pyvista.DataSet.cell_data.html#pyvista.DataSet.cell_data>),\nand then access it using the `[]` operator.\n"
      ]
    },
    {
      "cell_type": "code",
      "execution_count": null,
      "metadata": {
        "collapsed": false
      },
      "outputs": [],
      "source": [
        "simple_range = range(ugrid.n_cells)\nugrid.cell_data[\"my-data\"] = simple_range\nugrid.cell_data[\"my-data\"]"
      ]
    },
    {
      "cell_type": "markdown",
      "metadata": {},
      "source": [
        "Note how we are returned a `pyvista.pyvista_ndarray`. Since VTK requires\nC arrays, PyVista will internally wrap or convert all inputs to C\narrays. We can then plot this with:\n"
      ]
    },
    {
      "cell_type": "code",
      "execution_count": null,
      "metadata": {
        "collapsed": false
      },
      "outputs": [],
      "source": [
        "ugrid.plot(cpos=\"xy\", show_edges=True)"
      ]
    },
    {
      "cell_type": "markdown",
      "metadata": {},
      "source": [
        "Note how we did not have to specify which cell data to plot as the\n[\\[\\]]{.title-ref} operator automatically sets the active scalars:\n"
      ]
    },
    {
      "cell_type": "code",
      "execution_count": null,
      "metadata": {
        "collapsed": false
      },
      "outputs": [],
      "source": [
        "ugrid.cell_data"
      ]
    },
    {
      "cell_type": "markdown",
      "metadata": {},
      "source": [
        "We can also add labels to our plot to show which cells are assigned\nwhich scalars. Note how this is in the same order as the scalars we\nassigned.\n"
      ]
    },
    {
      "cell_type": "code",
      "execution_count": null,
      "metadata": {
        "collapsed": false
      },
      "outputs": [],
      "source": [
        "pl = pyvista.Plotter()\npl.add_mesh(ugrid, show_edges=True, line_width=5)\ncell_labels = [f\"Cell {i}\" for i in range(ugrid.n_cells)]\npl.add_point_labels(ugrid.cell_centers(), cell_labels, font_size=25)\npl.camera_position = \"xy\"\npl.show()"
      ]
    },
    {
      "cell_type": "markdown",
      "metadata": {},
      "source": [
        "We can continue to assign cell data to our\n\\[DataSet\\](<https://docs.pyvista.org/api/core/_autosummary/pyvista.DataSet.html#pyvista.DataSet>)\nusing the [\\[\\]]{.title-ref} operator, but if you do not wish the new\narray to become the active array, you can add it using\n\\[set\\_array()\\](<https://docs.pyvista.org/api/core/_autosummary/pyvista.DataSetAttributes.set_array.html#pyvista.DataSetAttributes.set_array>)\n"
      ]
    },
    {
      "cell_type": "code",
      "execution_count": null,
      "metadata": {
        "collapsed": false
      },
      "outputs": [],
      "source": [
        "data = np.linspace(0, 1, ugrid.n_cells)\nugrid.cell_data.set_array(data, \"my-cell-data\")\nugrid.cell_data"
      ]
    },
    {
      "cell_type": "markdown",
      "metadata": {},
      "source": [
        "Now, [ugrid]{.title-ref} contains two arrays, one of which is the\n\"active\" scalars. This set of active scalars will be the one plotted\nautomatically when [scalars]{.title-ref} is unset in either\n\\[add\\_mesh()\\](<https://docs.pyvista.org/api/plotting/_autosummary/pyvista.Plotter.add_mesh.html#pyvista.Plotter.add_mesh>)\nor\n\\[pyvista.plot()\\](<https://docs.pyvista.org/api/plotting/_autosummary/pyvista.plot.html#pyvista.plot>).\nThis makes it possible to have many cell arrays associated with a\ndataset and track which one will plotted as the active cell scalars by\ndefault. The active scalars can also be accessed via\n[active\\_scalars]{.title-ref}, and the name of the active scalars array\ncan be accessed or set with [active\\_scalars\\_name]{.title-ref}.\n"
      ]
    },
    {
      "cell_type": "code",
      "execution_count": null,
      "metadata": {
        "collapsed": false
      },
      "outputs": [],
      "source": [
        "ugrid.cell_data.active_scalars_name = \"my-cell-data\"\nugrid.cell_data"
      ]
    },
    {
      "cell_type": "markdown",
      "metadata": {},
      "source": [
        "Point Data\n==========\n\nData can be associated to points in the same manner as in \\[Cell\nData\\](<https://docs.pyvista.org/user-guide/data_model.html#pyvista-data-model-cell-data>).\nThe\n\\[point\\_data\\](<https://docs.pyvista.org/api/core/_autosummary/pyvista.DataSet.point_data.html#pyvista.DataSet.point_data>)\nattribute allows you to associate point data to the points of a\n\\[DataSet\\](<https://docs.pyvista.org/api/core/_autosummary/pyvista.DataSet.html#pyvista.DataSet>).\nHere, we will associate a simple list to the points using the\n[\\[\\]]{.title-ref} operator.\n"
      ]
    },
    {
      "cell_type": "code",
      "execution_count": null,
      "metadata": {
        "collapsed": false
      },
      "outputs": [],
      "source": [
        "simple_list = list(range(ugrid.n_points))\nugrid.point_data[\"my-data\"] = simple_list\nugrid.point_data[\"my-data\"]"
      ]
    },
    {
      "cell_type": "markdown",
      "metadata": {},
      "source": [
        "Again, these values become the active scalars in our point arrays by\ndefault by using the [\\[\\]]{.title-ref} operator:\n"
      ]
    },
    {
      "cell_type": "code",
      "execution_count": null,
      "metadata": {
        "collapsed": false
      },
      "outputs": [],
      "source": [
        "ugrid.point_data"
      ]
    },
    {
      "cell_type": "markdown",
      "metadata": {},
      "source": [
        "Let's plot the point data. Note how this varies from the cell data plot;\neach individual point is assigned a scalar value which is interpolated\nacross a cell to create a smooth color map between the lowest value at\n[Point 0]{.title-ref} to the highest value at [Point 8]{.title-ref}.\n"
      ]
    },
    {
      "cell_type": "code",
      "execution_count": null,
      "metadata": {
        "collapsed": false
      },
      "outputs": [],
      "source": [
        "pl = pyvista.Plotter()\npl.add_mesh(ugrid, show_edges=True, line_width=5)\nlabel_coords = ugrid.points + [0, 0, 0.02]\npoint_labels = [f\"Point {i}\" for i in range(ugrid.n_points)]\npl.add_point_labels(label_coords, point_labels, font_size=25, point_size=20)\npl.camera_position = \"xy\"\npl.show()"
      ]
    },
    {
      "cell_type": "markdown",
      "metadata": {},
      "source": [
        "As in \\[Cell\nData\\](<https://docs.pyvista.org/user-guide/data_model.html#pyvista-data-model-cell-data>),\nwe can assign multiple arrays to\n\\[point\\_data\\](<https://docs.pyvista.org/api/core/_autosummary/pyvista.DataSet.point_data.html#pyvista.DataSet.point_data>)\nusing\n\\[set\\_array()\\](<https://docs.pyvista.org/api/core/_autosummary/pyvista.DataSetAttributes.set_array.html#pyvista.DataSetAttributes.set_array>).\n"
      ]
    },
    {
      "cell_type": "code",
      "execution_count": null,
      "metadata": {
        "collapsed": false
      },
      "outputs": [],
      "source": [
        "data = np.linspace(0, 1, ugrid.n_points)\nugrid.point_data.set_array(data, \"my-point-data\")\nugrid.point_data"
      ]
    },
    {
      "cell_type": "markdown",
      "metadata": {},
      "source": [
        "Again, here there are now two arrays associated to the point data, and\nonly one is the \"active\" scalars array. Like as in the cell data, we can\nretrieve this with\n\\[active\\_scalars\\](<https://docs.pyvista.org/api/core/_autosummary/pyvista.DataSet.active_scalars.html#pyvista.DataSet.active_scalars>),\nand the name of the active scalars array can be accessed or set with\n\\[active\\_scalars\\_name\\](<https://docs.pyvista.org/api/core/_autosummary/pyvista.DataSet.active_scalars_name.html#pyvista.DataSet.active_scalars_name>).\n"
      ]
    },
    {
      "cell_type": "code",
      "execution_count": null,
      "metadata": {
        "collapsed": false
      },
      "outputs": [],
      "source": [
        "ugrid.point_data.active_scalars_name = \"my-point-data\"\nugrid.point_data"
      ]
    },
    {
      "cell_type": "markdown",
      "metadata": {},
      "source": [
        "Dataset Active Scalars\n======================\n\nContinuing from the previous sections, our [ugrid]{.title-ref} dataset\nnow contains both point and cell data:\n"
      ]
    },
    {
      "cell_type": "code",
      "execution_count": null,
      "metadata": {
        "collapsed": false
      },
      "outputs": [],
      "source": [
        "ugrid.point_data"
      ]
    },
    {
      "cell_type": "code",
      "execution_count": null,
      "metadata": {
        "collapsed": false
      },
      "outputs": [],
      "source": [
        "ugrid.cell_data"
      ]
    },
    {
      "cell_type": "markdown",
      "metadata": {},
      "source": [
        "There are active scalars in both point and cell data, but only one type\nof scalars can be \"active\" at the dataset level. The reason for this is\nthat only one scalar type (be it point or cell) can be plotted at once,\nand this data can be obtained from\n\\[active\\_scalars\\_info\\](<https://docs.pyvista.org/api/core/_autosummary/pyvista.DataSet.active_scalars_info.html#pyvista.DataSet.active_scalars_info>):\n"
      ]
    },
    {
      "cell_type": "code",
      "execution_count": null,
      "metadata": {
        "collapsed": false
      },
      "outputs": [],
      "source": [
        "ugrid.active_scalars_info"
      ]
    },
    {
      "cell_type": "markdown",
      "metadata": {},
      "source": [
        "Note that the active scalars are by default the point scalars. You can\nchange this by setting the active scalars with\n\\[set\\_active\\_scalars()\\](<https://docs.pyvista.org/api/core/_autosummary/pyvista.DataSet.set_active_scalars.html#pyvista.DataSet.set_active_scalars>).\nNote that if you want to set the active scalars and both the point and\ncell data have an array of the same name, you must specify the\n\\`preference\\`:\n"
      ]
    },
    {
      "cell_type": "code",
      "execution_count": null,
      "metadata": {
        "collapsed": false
      },
      "outputs": [],
      "source": [
        "ugrid.set_active_scalars(\"my-data\", preference=\"cell\")\nugrid.active_scalars_info"
      ]
    },
    {
      "cell_type": "markdown",
      "metadata": {},
      "source": [
        "This can also be set when plotting using the preference parameter in\nadd\\_mesh() or pyvista.plot().\n\nField Data\n==========\n\nField arrays are different from\n\\[point\\_data\\](<https://docs.pyvista.org/api/core/_autosummary/pyvista.DataSet.point_data.html#pyvista.DataSet.point_data>)\nand\n\\[cell\\_data\\](<https://docs.pyvista.org/api/core/_autosummary/pyvista.DataSet.cell_data.html#pyvista.DataSet.cell_data>)\nin that they are not associated with the geometry of the\n\\[DataSet\\](<https://docs.pyvista.org/api/core/_autosummary/pyvista.DataSet.html#pyvista.DataSet>).\nThis means that while it's not possible to designate the field data as\nactive scalars or vectors, you can use it to \"attach\" arrays of any\nshape. You can even add string arrays in the field data:\n"
      ]
    },
    {
      "cell_type": "code",
      "execution_count": null,
      "metadata": {
        "collapsed": false
      },
      "outputs": [],
      "source": [
        "ugrid.field_data[\"my-field-data\"] = [\"hello\", \"world\"]\nugrid.field_data[\"my-field-data\"]"
      ]
    },
    {
      "cell_type": "markdown",
      "metadata": {},
      "source": [
        "Note that the field data is automatically transferred to VTK C-style\narrays and then represented as a numpy data format.\n\nWhen listing the current field data, note that the association is\n\"NONE\":\n"
      ]
    },
    {
      "cell_type": "code",
      "execution_count": null,
      "metadata": {
        "collapsed": false
      },
      "outputs": [],
      "source": [
        "ugrid.field_data"
      ]
    },
    {
      "cell_type": "markdown",
      "metadata": {},
      "source": [
        "This is because the data is not associated with points or cells, and\ncannot be made so because field data is not expected to match the number\nof cells or points. As such, it also cannot be plotted.\n\nVectors, Texture Coords, and Normals Attributes\n===============================================\n\nBoth cell and point data can also store the following \"special\"\nattributes in addition to\n\\[active\\_scalars\\](<https://docs.pyvista.org/api/core/_autosummary/pyvista.DataSet.active_scalars.html#pyvista.DataSet.active_scalars>):\n\n-   \\[active\\_normals\\](<https://docs.pyvista.org/api/core/_autosummary/pyvista.DataSet.active_normals.html#pyvista.DataSet.active_normals>)\n-   \\[active\\_t\\_coords\\](<https://docs.pyvista.org/api/core/_autosummary/pyvista.DataSet.active_t_coords.html#pyvista.DataSet.active_t_coords>)\n-   \\[active\\_vectors\\](<https://docs.pyvista.org/api/core/_autosummary/pyvista.DataSet.active_vectors.html#pyvista.DataSet.active_vectors>)\n\nActive Normals\n==============\n\nThe\n\\[active\\_normals\\](<https://docs.pyvista.org/api/core/_autosummary/pyvista.DataSet.active_normals.html#pyvista.DataSet.active_normals>)\narray is a special array that specifies the local normal direction of\nmeshes. It is used for creating physically based rendering, rendering\nsmooth shading using Phong interpolation, warping by scalars, etc. If\nthis array is not set when plotting with\n[smooth\\_shading=True]{.title-ref} or [pbr=True]{.title-ref}, it will be\ncomputed.\n\nActive Texture Coordinates\n==========================\n\nThe\n\\[active\\_t\\_coords\\](<https://docs.pyvista.org/api/core/_autosummary/pyvista.DataSet.active_t_coords.html#pyvista.DataSet.active_t_coords>)\narray is used for rendering textures. See \\[Applying\nTextures\\](<https://docs.pyvista.org/examples/02-plot/texture.html#ref-texture-example>)\nfor examples using this array.\n\nActive Vectors\n==============\n\nThe\n\\[active\\_vectors\\](<https://docs.pyvista.org/api/core/_autosummary/pyvista.DataSet.active_vectors.html#pyvista.DataSet.active_vectors>)\nis an array containing quantities that have magnitude and direction\n(specifically, three components). For example, a vector field containing\nthe wind speed at various coordinates. This differs from\n\\[active\\_scalars\\](<https://docs.pyvista.org/api/core/_autosummary/pyvista.DataSet.active_scalars.html#pyvista.DataSet.active_scalars>)\nas scalars are expected to be non-directional even if they contain\nseveral components (as in the case of RGB data).\n\nVectors are treated differently within VTK than scalars when performing\ntransformations using the\n\\[transform()\\](<https://docs.pyvista.org/api/core/_autosummary/pyvista.DataSet.transform.html#pyvista.DataSet.transform>)\nfilter. Unlike scalar arrays, vector arrays will be transformed along\nwith the geometry as these vectors represent quantities with direction.\n\nVTK permits only one \"active\" vector. If you have multiple vector arrays\nthat you wish to transform, set\n[transform\\_all\\_input\\_vectors=True]{.title-ref} in\n\\[transform()\\](<https://docs.pyvista.org/api/core/_autosummary/pyvista.DataSet.transform.html#pyvista.DataSet.transform>).\nBe aware that this will transform any array with three components, so\nmulti-component scalar arrays like RGB arrays will have to be discarded\nafter transformation.\n"
      ]
    }
  ],
  "metadata": {
    "kernelspec": {
      "display_name": "Python 3",
      "language": "python",
      "name": "python3"
    },
    "language_info": {
      "codemirror_mode": {
        "name": "ipython",
        "version": 3
      },
      "file_extension": ".py",
      "mimetype": "text/x-python",
      "name": "python",
      "nbconvert_exporter": "python",
      "pygments_lexer": "ipython3",
      "version": "3.9.13"
    }
  },
  "nbformat": 4,
  "nbformat_minor": 0
}